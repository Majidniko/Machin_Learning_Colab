{
  "nbformat": 4,
  "nbformat_minor": 0,
  "metadata": {
    "colab": {
      "provenance": [],
      "authorship_tag": "ABX9TyNYDq9odGNBqyk53Jtf3glz",
      "include_colab_link": true
    },
    "kernelspec": {
      "name": "python3",
      "display_name": "Python 3"
    },
    "language_info": {
      "name": "python"
    }
  },
  "cells": [
    {
      "cell_type": "markdown",
      "metadata": {
        "id": "view-in-github",
        "colab_type": "text"
      },
      "source": [
        "<a href=\"https://colab.research.google.com/github/Majidniko/Machin_Learning_Colab/blob/main/Machin_Learning1.ipynb\" target=\"_parent\"><img src=\"https://colab.research.google.com/assets/colab-badge.svg\" alt=\"Open In Colab\"/></a>"
      ]
    },
    {
      "cell_type": "code",
      "execution_count": null,
      "metadata": {
        "colab": {
          "base_uri": "https://localhost:8080/"
        },
        "id": "FqcGJ8GFLKjy",
        "outputId": "7506388e-b417-4676-a0d3-ce74051410f2"
      },
      "outputs": [
        {
          "output_type": "stream",
          "name": "stdout",
          "text": [
            "[5, 3, -1, 2, 6] [14, 6, -5.5, 3.5, 18]\n"
          ]
        }
      ],
      "source": [
        "x=[5,3,-1,2,6]\n",
        "y=[14,6,-5.5,3.5,18]\n",
        "print(x,y)"
      ]
    },
    {
      "cell_type": "code",
      "source": [
        "X, Y, XiYi ,Xi2=0,0,0,0\n",
        "n = len(x)\n",
        "for i in range(n):\n",
        "  X=X+x[i]\n",
        "  Y=Y+y[i]\n",
        "  XiYi= XiYi+x[i]*y[i]\n",
        "  Xi2=Xi2+x[i]**2\n",
        "  print(n,X,Y)"
      ],
      "metadata": {
        "colab": {
          "base_uri": "https://localhost:8080/"
        },
        "id": "1ueiAOgIMAfc",
        "outputId": "410d8e84-16aa-4852-cc6a-bedaa301984e"
      },
      "execution_count": null,
      "outputs": [
        {
          "output_type": "stream",
          "name": "stdout",
          "text": [
            "5 5 14\n",
            "5 8 20\n",
            "5 7 14.5\n",
            "5 9 18.0\n",
            "5 15 36.0\n"
          ]
        }
      ]
    },
    {
      "cell_type": "code",
      "source": [],
      "metadata": {
        "id": "CV652ca9MTDz"
      },
      "execution_count": null,
      "outputs": []
    }
  ]
}